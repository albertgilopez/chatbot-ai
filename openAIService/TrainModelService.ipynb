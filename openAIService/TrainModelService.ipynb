{
 "cells": [
  {
   "cell_type": "markdown",
   "id": "52b4bf99",
   "metadata": {},
   "source": [
    "\n",
    "# TrainModelService Notebook\n",
    "This notebook outlines the process of training a model service, including:\n",
    "- Installing required packages\n",
    "- Importing necessary libraries\n",
    "- Setting up environment variables\n",
    "- Initializing an OpenAI client\n",
    "- Processing PDF documents for embeddings\n",
    "- Interacting with Google Cloud Storage\n",
    "\n",
    "Please ensure you have set up the following environment variables before running:\n",
    "- `GOOGLE_APPLICATION_CREDENTIALS`: path to your Google Cloud credentials JSON file\n",
    "- `OPENAI_API_KEY`: your OpenAI API key\n",
    "\n",
    "**Note**: Never upload sensitive credentials to a public repository. Always use environment variables and `.gitignore` to handle sensitive information.\n"
   ]
  },
  {
   "cell_type": "code",
   "execution_count": 34,
   "metadata": {},
   "outputs": [],
   "source": [
    "# !pip install PyPDF2\n",
    "# !pip install langchain\n",
    "# !pip install openai\n",
    "# !pip install tiktoken\n",
    "# !pip install faiss-cpu"
   ]
  },
  {
   "cell_type": "code",
   "execution_count": 35,
   "metadata": {},
   "outputs": [],
   "source": [
    "# Importamos las librerías\n",
    "\n",
    "from PyPDF2 import PdfReader\n",
    "from langchain.text_splitter import CharacterTextSplitter\n",
    "from langchain.embeddings.openai import OpenAIEmbeddings\n",
    "from langchain.vectorstores import FAISS"
   ]
  },
  {
   "cell_type": "code",
   "execution_count": 36,
   "metadata": {},
   "outputs": [],
   "source": [
    "# !pip install python-dotenv\n",
    "\n",
    "import os\n",
    "from dotenv import load_dotenv\n",
    "\n",
    "# Carga las variables de entorno desde el archivo .env en el directorio actual\n",
    "load_dotenv()"
   ]
  },
  {
   "cell_type": "code",
   "execution_count": 37,
   "metadata": {},
   "outputs": [],
   "source": [
    "from openai import OpenAI\n",
    "\n",
    "client = OpenAI()\n",
    "# defaults to getting the key using os.environ.get(\"OPENAI_API_KEY\")\n",
    "# if you saved the key under a different environment variable name, you can do something like:\n",
    "# client = OpenAI(\n",
    "#   api_key=os.environ.get(\"CUSTOM_ENV_NAME\"),\n",
    "# )"
   ]
  },
  {
   "cell_type": "code",
   "execution_count": 38,
   "metadata": {},
   "outputs": [],
   "source": [
    "class EmbeddingPDF():\n",
    "    def __init__(self, pdf):\n",
    "        self.pdf = pdf\n",
    "        \n",
    "    def getEmbedding(self):\n",
    "        if self.pdf is not None:\n",
    "            leer_pdf = PdfReader(self.pdf)\n",
    "            text = \"\"\n",
    "            for page in leer_pdf.pages:\n",
    "                text += page.extract_text()\n",
    "                \n",
    "            # Configuraciomos los splits del documento\n",
    "            text_splitter = CharacterTextSplitter(\n",
    "                separator = \"\\n\",\n",
    "                chunk_size = 1000,\n",
    "                length_function = len\n",
    "            )\n",
    "                \n",
    "            splits = text_splitter.split_text(text)\n",
    "                \n",
    "            embeddings = OpenAIEmbeddings()\n",
    "                \n",
    "            baseConocimiento = FAISS.from_texts(splits, embeddings)\n",
    "                \n",
    "            baseConocimiento.save_local(\"vectorStore/faiss_index\")"
   ]
  },
  {
   "cell_type": "code",
   "execution_count": 39,
   "metadata": {},
   "outputs": [],
   "source": [
    "pdf_file = \"ruta-a-tu-archivo-pdf\""
   ]
  },
  {
   "cell_type": "code",
   "execution_count": 40,
   "metadata": {},
   "outputs": [],
   "source": [
    "baseConocimiento = EmbeddingPDF(pdf_file)\n",
    "baseConocimiento.getEmbedding()"
   ]
  },
  {
   "cell_type": "code",
   "execution_count": 41,
   "metadata": {},
   "outputs": [],
   "source": [
    "# !pip install google-cloud\n",
    "# !pip install google-cloud-storage"
   ]
  },
  {
   "cell_type": "code",
   "execution_count": 42,
   "metadata": {},
   "outputs": [],
   "source": [
    "from google.cloud import storage\n",
    "\n",
    "class VectorManagerGoogleCloud():\n",
    "    def __init__(self):\n",
    "        self.project_id = \"tu-project-id\"\n",
    "        self.storage_client = \"\"\n",
    "        self.folder_name = \"\"\n",
    "        self.bucket_name = \"tu-bucket-id\"\n",
    "    \n",
    "    def connect_gcp(self, service_account_json):\n",
    "        self.storage_client = storage.Client.from_service_account_json(service_account_json)\n",
    "    \n",
    "    def create_folder(self, folder_name):\n",
    "        self.storage_client.get_bucket(self.bucket_name).blob(folder_name+\"/READMI.txt\").upload_from_string(\"vectores\")\n",
    "        \n",
    "    def upload_file(self, blob_name, file_path):\n",
    "        try:\n",
    "            bucket = self.storage_client.get_bucket(self.bucket_name)\n",
    "            blob = bucket.blob(\"PdfVectorStore/faiss_index/\"+blob_name)\n",
    "            blob.upload_from_filename(file_path)\n",
    "            \n",
    "            return True\n",
    "        except:\n",
    "            return False"
   ]
  },
  {
   "cell_type": "code",
   "execution_count": 43,
   "metadata": {},
   "outputs": [],
   "source": [
    "SERVICE_ACCOUNT_CREDENTIALS = os.environ[\"GOOGLE_APPLICATION_CREDENTIALS\"]"
   ]
  },
  {
   "cell_type": "code",
   "execution_count": 44,
   "metadata": {},
   "outputs": [],
   "source": [
    "vmgc = VectorManagerGoogleCloud()\n",
    "vmgc.connect_gcp(SERVICE_ACCOUNT_CREDENTIALS)"
   ]
  },
  {
   "cell_type": "code",
   "execution_count": 45,
   "metadata": {},
   "outputs": [],
   "source": [
    "vmgc.create_folder(\"PdfVectorStore/faiss_index\")"
   ]
  },
  {
   "cell_type": "code",
   "execution_count": 46,
   "metadata": {},
   "outputs": [],
   "source": [
    "vmgc.upload_file(\"index.faiss\", \"vectorStore/faiss_index/index.faiss\")\n",
    "vmgc.upload_file(\"index.pkl\", \"vectorStore/faiss_index/index.pkl\")"
   ]
  }
 ],
 "metadata": {
  "kernelspec": {
   "display_name": "whats-bot",
   "language": "python",
   "name": "python3"
  },
  "language_info": {
   "codemirror_mode": {
    "name": "ipython",
    "version": 3
   },
   "file_extension": ".py",
   "mimetype": "text/x-python",
   "name": "python",
   "nbconvert_exporter": "python",
   "pygments_lexer": "ipython3",
   "version": "3.10.13"
  }
 },
 "nbformat": 4,
 "nbformat_minor": 2
}
